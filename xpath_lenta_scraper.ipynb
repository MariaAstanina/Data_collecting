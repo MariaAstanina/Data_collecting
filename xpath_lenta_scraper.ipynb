{
  "nbformat": 4,
  "nbformat_minor": 0,
  "metadata": {
    "colab": {
      "name": "xpath_lenta_scraper.ipynb",
      "provenance": [],
      "authorship_tag": "ABX9TyP/O7ObOqfA996TYPfl/dL9"
    },
    "kernelspec": {
      "name": "python3",
      "display_name": "Python 3"
    },
    "language_info": {
      "name": "python"
    }
  },
  "cells": [
    {
      "cell_type": "code",
      "execution_count": null,
      "metadata": {
        "id": "QcsNFnqwvIyj"
      },
      "outputs": [],
      "source": [
        "import requests\n",
        "import numpy as np\n",
        "from lxml import html\n",
        "from pymongo import MongoClient\n",
        "\n",
        "client = MongoClient('localhost', 27017)\n",
        "db = client['lenta_news']\n",
        "collection = db.fresh_news\n",
        "\n",
        "header = {'User-Agent':'Mozilla/5.0 (Windows NT 10.0; Win64; x64) AppleWebKit/537.36 (KHTML, like Gecko) Chrome/99.0.4844.84 Safari/537.36'}\n",
        "url = 'https://lenta.ru/'\n",
        "response = requests.get(url, headers=header)\n",
        "dom = html.fromstring(response.text)\n",
        "# items = dom.xpath(\"//a[contains(@class, 'card-mini')] | //a[contains(@class, 'card-big')]\")\n",
        "items = dom.xpath(\"//a[contains(@class, 'card-mini')]\")\n",
        "count = 0\n",
        "for item in items:\n",
        "    news = {}\n",
        "\n",
        "    news['title'] = item.xpath(\".//span[contains(@class, 'title')]/text()\")[0]\n",
        "\n",
        "    href = item.xpath('.//@href')[0]\n",
        "    if href[0:4] != 'http':\n",
        "        news['href'] = url[:-1] + href\n",
        "        news['source'] = 'LENTA.RU'\n",
        "    else:\n",
        "        news['href'] = href\n",
        "        news['source'] = 'external source'\n",
        "\n",
        "\n",
        "    try:\n",
        "        if news['source'] == 'LENTA.RU':\n",
        "            # news['date'] = '.'.join(href.split('/')[2:5]) + ' ' + item.xpath(\".//time[contains(@class, '__date')]/text()\")[0]\n",
        "            news['date'] = html.fromstring(\n",
        "                requests.get(news['href'], headers=header).text\n",
        "            ).xpath(\"//time[contains(@class, 'topic-header__time')]/text()\")[0]\n",
        "        else:\n",
        "            try:\n",
        "                news['date'] = item.xpath(\".//time[contains(@class, '__date')]/text()\")[0]\n",
        "            except:\n",
        "                news['date'] = np.nan\n",
        "\n",
        "    except:\n",
        "        news['date'] = np.nan\n",
        "\n",
        "    collection.insert_one(news)"
      ]
    }
  ]
}